{
 "cells": [
  {
   "cell_type": "markdown",
   "id": "c39cf8c0",
   "metadata": {},
   "source": [
    "### Load modules"
   ]
  },
  {
   "cell_type": "code",
   "execution_count": 1,
   "id": "16aaae31",
   "metadata": {},
   "outputs": [
    {
     "name": "stdout",
     "output_type": "stream",
     "text": [
      "Pytorch version:  2.0.1\n",
      "Numpyro version:  0.12.1\n",
      "JAX version:      0.4.12\n",
      "Flax version:     0.6.10\n",
      "Optax version:    0.1.5\n",
      "Pythorch version: 3.10.11\n"
     ]
    }
   ],
   "source": [
    "%load_ext autoreload\n",
    "%autoreload 2\n",
    "\n",
    "# general\n",
    "import os\n",
    "import sys\n",
    "import time\n",
    "import numpy as np \n",
    "import matplotlib.pyplot as plt \n",
    "import seaborn as sns\n",
    "import random as rnd\n",
    "import time\n",
    "\n",
    "# Numpyro\n",
    "import numpyro\n",
    "import numpyro.distributions as npdist\n",
    "from numpyro.infer import Predictive, init_to_median, MCMC, NUTS\n",
    "from numpyro.diagnostics import hpdi\n",
    "\n",
    "numpyro.set_host_device_count(4)\n",
    "\n",
    "#JAX\n",
    "import jax\n",
    "import flax\n",
    "from jax.tree_util import tree_map\n",
    "from flax.training import train_state  # Useful dataclass to keep train state\n",
    "import optax\n",
    "\n",
    "# PyTorch\n",
    "import torch\n",
    "import torch.utils.data as data\n",
    "\n",
    "# check versions\n",
    "print('Pytorch version: ',   torch.__version__)\n",
    "print('Numpyro version: ', numpyro.__version__)\n",
    "print('JAX version:     ',     jax.__version__)\n",
    "print('Flax version:    ',    flax.__version__)\n",
    "print('Optax version:   ',   optax.__version__)\n",
    "from platform import python_version\n",
    "print('Pythorch version:',python_version())\n",
    "\n",
    "# import priors \n",
    "#from models.priors import *\n",
    "\n",
    "# import functions to load data\n",
    "from priorCVAE.models.data import *\n",
    "\n",
    "# import VAE architecture\n",
    "from priorCVAE.models.cvae import *\n",
    "\n",
    "# import loss functions\n",
    "from priorCVAE.models.losses import *\n",
    "\n",
    "from priorCVAE.models.priors import exp_sq_kernel\n",
    "\n",
    "from priorCVAE.diagnostics import *\n",
    "\n",
    "# Test dist_euclid\n",
    "#x1 = jnp.array([1,2,3])\n",
    "#dist_euclid(x1,x1)\n",
    "\n",
    "# test kl_divergence\n",
    "#x1 = jnp.array([1.1,2,3])\n",
    "#kl = kl_divergence(x1, x1)\n",
    "#kl"
   ]
  },
  {
   "cell_type": "code",
   "execution_count": 2,
   "id": "7f348e56",
   "metadata": {},
   "outputs": [],
   "source": [
    "import scipy.stats as stats\n",
    "from collections import defaultdict"
   ]
  },
  {
   "cell_type": "markdown",
   "id": "239c2ee4",
   "metadata": {},
   "source": [
    "### Setup arguments"
   ]
  },
  {
   "cell_type": "code",
   "execution_count": 3,
   "id": "add79edb",
   "metadata": {},
   "outputs": [],
   "source": [
    "args = {\"seed\": 0,\n",
    "        \n",
    "        # data\n",
    "        \"num_samples\": 10000,\n",
    "        \n",
    "        # architecture\n",
    "        \"conditional\": False,   # CVAE if True, VAE otherwise\n",
    "        \"input_dim\" : 50,\n",
    "        \"hidden_dim\": 40,\n",
    "        \"latent_dim\": 30,\n",
    "        \n",
    "        # VAE training    \n",
    "        \"batch_size\": 100,\n",
    "        \"num_epochs\": 200,\n",
    "        \"vae_var\": 1, \n",
    "\n",
    "        # MCMC inference\n",
    "        \"true_ls\": 0.2,\n",
    "        \"num_warmup\": 1000,\n",
    "        \"num_samples_mcmc\": 4000,\n",
    "        \"num_chains\": 4,\n",
    "        \"thinning\": 1,\n",
    "       }"
   ]
  },
  {
   "cell_type": "markdown",
   "id": "efe4ac12",
   "metadata": {},
   "source": [
    "### Generate data\n"
   ]
  },
  {
   "cell_type": "code",
   "execution_count": 4,
   "id": "2197cc36",
   "metadata": {},
   "outputs": [],
   "source": [
    "\n",
    "\n",
    "train_set = Dataset_GP1d(n_dataPoints=args[\"input_dim\"], n_samples=args[\"num_samples\"], seed=42, ls=0.2)  \n",
    "val_set   = Dataset_GP1d(n_dataPoints=args[\"input_dim\"], n_samples=args[\"num_samples\"], seed=43, ls=0.2)  \n",
    "test_set  = Dataset_GP1d(n_dataPoints=args[\"input_dim\"], n_samples=args[\"num_samples\"], seed=44, ls=0.2)  \n",
    "\n",
    "train_loader, val_loader, test_loader = create_data_loaders(train_set, val_set, test_set,\n",
    "                                                            #train=[True, False, False],\n",
    "                                                            train=[True, True, True],\n",
    "                                                            batch_size=args[\"batch_size\"])\n",
    "\n",
    "train_loader_iter = iter(train_loader)\n",
    "val_loader_iter   = iter(val_loader)\n",
    "test_loader_iter  = iter(test_loader)"
   ]
  },
  {
   "cell_type": "code",
   "execution_count": 5,
   "id": "003c5097",
   "metadata": {},
   "outputs": [
    {
     "data": {
      "text/plain": [
       "<matplotlib.legend.Legend at 0x2a6f88fd0>"
      ]
     },
     "execution_count": 5,
     "metadata": {},
     "output_type": "execute_result"
    },
    {
     "data": {
      "image/png": "[encoded data removed]",
      "text/plain": [
       "<Figure size 400x300 with 1 Axes>"
      ]
     },
     "metadata": {},
     "output_type": "display_data"
    }
   ],
   "source": [
    "# check: what lengthscales are we generating? \n",
    "\n",
    "ls_train_set = train_set.ls\n",
    "ls_val_set   = val_set.ls\n",
    "ls_test_set  = test_set.ls\n",
    "\n",
    "plt.figure(figsize=(4,3))\n",
    "plt.hist(ls_train_set, alpha = 0.3, label = 'train ls') \n",
    "plt.hist(ls_val_set,   alpha = 0.3, label = 'val ls') \n",
    "plt.hist(ls_test_set,  alpha = 0.3, label = 'test ls') \n",
    "plt.xlim(0,1)\n",
    "plt.legend()\n"
   ]
  },
  {
   "cell_type": "code",
   "execution_count": 6,
   "id": "de668eff",
   "metadata": {},
   "outputs": [
    {
     "data": {
      "image/png": "[encoded data removed]",
      "text/plain": [
       "<Figure size 400x300 with 1 Axes>"
      ]
     },
     "metadata": {},
     "output_type": "display_data"
    }
   ],
   "source": [
    "# check: what trajectories are we generating?\n",
    "\n",
    "fig, ax = plt.subplots(figsize=(4,3))\n",
    "for i in range(15):\n",
    "    if train_set.ls[i] <= 0.2:\n",
    "        col = 'orange'\n",
    "    elif train_set.ls[i] <= 0.6:\n",
    "        col = 'green'\n",
    "    else:\n",
    "        col = 'blue'\n",
    "    ax.plot(train_set.x[i], train_set.y[i], color=col)\n",
    "ax.set_xlabel('$x$')\n",
    "ax.set_ylabel('$y=f(x)$')\n",
    "ax.set_title('example GP trajectories')\n",
    "\n",
    "plt.show()"
   ]
  },
  {
   "cell_type": "code",
   "execution_count": 7,
   "id": "454321ce",
   "metadata": {
    "scrolled": true
   },
   "outputs": [],
   "source": [
    "gp_realizations = train_set.y\n",
    "def means_MSE(x):\n",
    "    return np.square(x.mean(axis=0)).sum()/x.shape[1]\n"
   ]
  },
  {
   "cell_type": "markdown",
   "id": "a53d83a8",
   "metadata": {},
   "source": [
    "### VAE Model"
   ]
  },
  {
   "cell_type": "code",
   "execution_count": 8,
   "id": "a5a42ae4",
   "metadata": {},
   "outputs": [],
   "source": [
    "out_dim     = args[\"input_dim\"]\n",
    "hidden_dim  = args[\"hidden_dim\"]\n",
    "latent_dim  = args[\"latent_dim\"]\n",
    "conditional = args[\"conditional\"]\n",
    "batch_size  = args[\"batch_size\"]\n",
    "num_samples = args[\"num_samples\"]\n",
    "num_epochs  = args[\"num_epochs\"]\n",
    "vae_var     = args[\"vae_var\"]"
   ]
  },
  {
   "cell_type": "markdown",
   "id": "a67bb555",
   "metadata": {},
   "source": [
    "### Training loop"
   ]
  },
  {
   "cell_type": "code",
   "execution_count": 9,
   "id": "1ff8314a",
   "metadata": {},
   "outputs": [],
   "source": [
    "@jax.jit\n",
    "def train_step(state, batch, z_rng):\n",
    "    def loss_fn(params, z_rng):\n",
    "        _, y, _ = batch \n",
    "        y_hat, z_mu, z_sd = model.apply({'params': params}, y, z_rng) \n",
    "        rcl_loss = rcl(y_hat, y, vae_var).mean()\n",
    "        kld_loss = kl_divergence(z_mu, z_sd).mean()\n",
    "        loss = rcl_loss + kld_loss\n",
    "        return loss\n",
    "    \n",
    "    grads = jax.grad(loss_fn)(state.params, z_rng)\n",
    "    return state.apply_gradients(grads=grads), loss_fn(state.params, z_rng)"
   ]
  },
  {
   "cell_type": "code",
   "execution_count": 10,
   "id": "bf3e41cf",
   "metadata": {},
   "outputs": [],
   "source": [
    "@jax.jit\n",
    "def eval(state, batch, z_rng):\n",
    "    def loss_fn(params, z_rng):\n",
    "        _, y, _ = batch \n",
    "        y_hat, z_mu, z_sd = model.apply({'params': params}, y, z_rng) \n",
    "        rcl_loss = rcl(y_hat, y, vae_var).mean()\n",
    "        kld_loss = kl_divergence(z_mu, z_sd).mean()\n",
    "        loss = rcl_loss + kld_loss\n",
    "        return loss\n",
    "    \n",
    "    return loss_fn(state.params, z_rng)"
   ]
  },
  {
   "cell_type": "code",
   "execution_count": 11,
   "id": "5211d81e",
   "metadata": {},
   "outputs": [
    {
     "name": "stdout",
     "output_type": "stream",
     "text": [
      "[    1] training loss: 1741.139, test loss: 1697.084\n",
      "[   11] training loss: 799.845, test loss: 832.613\n",
      "[   21] training loss: 756.288, test loss: 771.899\n",
      "[   31] training loss: 749.392, test loss: 741.702\n",
      "[   41] training loss: 721.216, test loss: 745.996\n",
      "[   51] training loss: 776.670, test loss: 736.489\n",
      "[   61] training loss: 757.923, test loss: 768.991\n",
      "[   71] training loss: 770.839, test loss: 761.506\n",
      "[   81] training loss: 779.364, test loss: 754.398\n",
      "[   91] training loss: 739.722, test loss: 760.762\n",
      "[  101] training loss: 788.191, test loss: 725.285\n",
      "[  111] training loss: 792.922, test loss: 734.058\n",
      "[  121] training loss: 745.916, test loss: 735.984\n",
      "[  131] training loss: 760.027, test loss: 770.271\n",
      "[  141] training loss: 747.281, test loss: 725.932\n",
      "[  151] training loss: 740.594, test loss: 704.185\n",
      "[  161] training loss: 766.927, test loss: 778.270\n",
      "[  171] training loss: 771.054, test loss: 735.936\n",
      "[  181] training loss: 769.032, test loss: 761.739\n",
      "[  191] training loss: 721.998, test loss: 751.330\n",
      "Training of 200 epochs took 17 seconds\n"
     ]
    },
    {
     "data": {
      "text/plain": [
       "<matplotlib.legend.Legend at 0x2acc5ddb0>"
      ]
     },
     "execution_count": 11,
     "metadata": {},
     "output_type": "execute_result"
    },
    {
     "data": {
      "image/png": "[encoded data removed]",
      "text/plain": [
       "<Figure size 400x300 with 1 Axes>"
      ]
     },
     "metadata": {},
     "output_type": "display_data"
    }
   ],
   "source": [
    "# define model\n",
    "model = VAE(hidden_dim, latent_dim, out_dim, conditional)\n",
    "\n",
    "# initialise parameters\n",
    "key = jax.random.PRNGKey(0) \n",
    "rng, z_key, eval_key = random.split(key, 3)\n",
    "\n",
    "batch_init = next(val_loader_iter) # batch[0] - x, batch[1] - y, batch[2] - c\n",
    "_, y, _ = batch_init\n",
    "params = model.init(rng, y, key)['params']\n",
    "\n",
    "# optimizer\n",
    "optimizer = optax.adam(learning_rate=0.001)\n",
    "\n",
    "# store training state\n",
    "state = train_state.TrainState.create(apply_fn=model, params=params, tx=optimizer)\n",
    "\n",
    "# check architecture\n",
    "#print(model.tabulate(key, train_set.y,\n",
    "#      console_kwargs={'force_terminal': False, 'force_jupyter': True}))\n",
    "\n",
    "_loss_train = []\n",
    "_loss_test = []\n",
    "\n",
    "t_start = time.time()\n",
    "\n",
    "\n",
    "\n",
    "for epoch in range(num_epochs):\n",
    "    # Training phase\n",
    "    for _, batch_train in enumerate(train_loader):\n",
    "        z_key, key = random.split(z_key)\n",
    "        state, loss_train = train_step(state, batch_train, key)\n",
    "        _loss_train.append(loss_train)\n",
    "\n",
    "    # Test phase\n",
    "    for _, batch_test in enumerate(test_loader):\n",
    "\n",
    "        eval_key, key = random.split(eval_key)\n",
    "        loss_test = eval(state, batch_test, key)\n",
    "        _loss_test.append(loss_test)\n",
    "\n",
    "    if epoch % 10 == 0:   \n",
    "        print(f'[{epoch + 1:5d}] training loss: {loss_train:.3f}, test loss: {loss_test:.3f}')\n",
    "\n",
    "t_elapsed = time.time() - t_start\n",
    "\n",
    "print(f'Training of {num_epochs} epochs took {round(t_elapsed)} seconds')\n",
    "\n",
    "assert len(_loss_train) == num_epochs * num_samples // batch_size\n",
    "\n",
    "plt.figure(figsize=(4,3))\n",
    "plt.plot(range(len(_loss_train)), _loss_train, label = 'Training loss')\n",
    "plt.plot(range(len(_loss_test)), _loss_test, label = 'Test loss')\n",
    "plt.legend()"
   ]
  },
  {
   "cell_type": "markdown",
   "id": "c5783eb0",
   "metadata": {},
   "source": [
    "#### What have we learnt?"
   ]
  },
  {
   "cell_type": "code",
   "execution_count": 12,
   "id": "fff51363",
   "metadata": {},
   "outputs": [],
   "source": [
    "# Get trained decoder params\n",
    "decoder_params = state.params['decoder']"
   ]
  },
  {
   "cell_type": "code",
   "execution_count": 13,
   "id": "da4fa5ab",
   "metadata": {},
   "outputs": [],
   "source": [
    "rng, z_rng = random.split(rng, 2)\n",
    "\n",
    "# latents as input\n",
    "z = random.normal(z_rng, (10000, latent_dim))\n",
    "\n",
    "# create decoder\n",
    "decoder = Decoder(hidden_dim, out_dim)\n",
    "\n",
    "# Apply decoder with parameters on the data\n",
    "out = decoder.apply({'params': decoder_params}, z)   \n",
    "\n",
    "# print(f'VAE: {means_MSE(out)}')\n",
    "# print(f'GP: {means_MSE(gp_realizations)}')\n",
    "# out.shape"
   ]
  },
  {
   "cell_type": "code",
   "execution_count": 14,
   "id": "d7032d87",
   "metadata": {},
   "outputs": [],
   "source": [
    "vae_realizations = out\n",
    "grid = np.linspace(0, 1, 50) "
   ]
  },
  {
   "cell_type": "code",
   "execution_count": 15,
   "id": "3725fe47",
   "metadata": {},
   "outputs": [
    {
     "data": {
      "text/plain": [
       "(array([ True,  True,  True,  True,  True,  True,  True,  True,  True,\n",
       "         True,  True, False, False,  True,  True,  True,  True,  True,\n",
       "         True,  True,  True,  True,  True,  True,  True,  True,  True,\n",
       "         True,  True,  True,  True,  True,  True, False, False, False,\n",
       "        False, False, False, False, False, False, False,  True,  True,\n",
       "         True,  True,  True,  True,  True]),\n",
       " 38)"
      ]
     },
     "execution_count": 15,
     "metadata": {},
     "output_type": "execute_result"
    }
   ],
   "source": [
    "mean_bootstrap_confidence_interval(vae_realizations)"
   ]
  },
  {
   "cell_type": "code",
   "execution_count": 16,
   "id": "c964d5fa",
   "metadata": {},
   "outputs": [
    {
     "ename": "NameError",
     "evalue": "name 'res' is not defined",
     "output_type": "error",
     "traceback": [
      "\u001b[0;31m---------------------------------------------------------------------------\u001b[0m",
      "\u001b[0;31mNameError\u001b[0m                                 Traceback (most recent call last)",
      "Cell \u001b[0;32mIn[16], line 20\u001b[0m\n\u001b[1;32m     18\u001b[0m     \u001b[38;5;28mprint\u001b[39m(means)\n\u001b[1;32m     19\u001b[0m     \u001b[38;5;28;01mreturn\u001b[39;00m zero_in_interval\n\u001b[0;32m---> 20\u001b[0m evaluate_means_by_percentiles(\u001b[43mres\u001b[49m\u001b[38;5;241m.\u001b[39mbootstrap_distribution)\n",
      "\u001b[0;31mNameError\u001b[0m: name 'res' is not defined"
     ]
    }
   ],
   "source": [
    "def evaluate_means_by_percentiles(realizations):\n",
    "    \"\"\"\n",
    "    Checks whether zero lies between the 5th- and 95th-percentile of the distributions of means of sample realizations.\n",
    "\n",
    "    Args:\n",
    "        realizations: Array of shape (num_realizations, grid_size)\n",
    "    Returns:\n",
    "        zero_in_interval: True if lies between 5th and 95th percentile of the means. False otherwise.\n",
    "\n",
    "    \"\"\"\n",
    "#     means = realizations.mean(axis=0)\n",
    "    means = realizations\n",
    "    percentile_5 = np.percentile(means, 5)\n",
    "    percentile_95 = np.percentile(means, 95)\n",
    "\n",
    "    zero_in_interval = (percentile_5 <= 0) & (0 <= percentile_95)\n",
    "    print(percentile_5, percentile_95)\n",
    "    print(means)\n",
    "    return zero_in_interval\n",
    "evaluate_means_by_percentiles(res.bootstrap_distribution)"
   ]
  },
  {
   "cell_type": "code",
   "execution_count": null,
   "id": "a0c338a1",
   "metadata": {},
   "outputs": [],
   "source": [
    "evaluate_means_by_percentiles(gp_realizations)"
   ]
  },
  {
   "cell_type": "code",
   "execution_count": null,
   "id": "aa025593",
   "metadata": {},
   "outputs": [],
   "source": [
    "vae_means = vae_realizations.mean(axis=0)\n",
    "\n",
    "import numpy as np\n",
    "import statsmodels.api as sm # recommended import according to the docs\n",
    "import matplotlib.pyplot as plt\n",
    "\n",
    "ecdf = sm.distributions.ECDF(vae_realizations[20,:])\n",
    "\n",
    "x = np.linspace(min(vae_realizations[30,:]), max(vae_realizations[30,:]))\n",
    "y = ecdf(x)\n",
    "plt.step(x, y)\n",
    "plt.show()"
   ]
  },
  {
   "cell_type": "code",
   "execution_count": null,
   "id": "4900401c",
   "metadata": {},
   "outputs": [],
   "source": [
    "def evaluate_means_by_confidence_intervals(realizations):\n",
    "    \"\"\"\n",
    "    Returns the number of points at which zero lies within the 95% confidence interval of the mean of the realizations at each point.\n",
    "\n",
    "    Args:\n",
    "        realizations: Array of shape (num_realizations, grid_size)\n",
    "    Returns:\n",
    "        num_valid: Number of means where zero lies between the 95% confidence interval.\n",
    "    \"\"\"\n",
    "    means = np.mean(realizations, axis=0)\n",
    "    sem = stats.sem(realizations, axis=0)\n",
    "\n",
    "    ci_lower, ci_upper = stats.t.interval(\n",
    "        confidence=0.95,\n",
    "        df=realizations.shape[0]-1,\n",
    "        loc=means,\n",
    "        scale=sem,\n",
    "    )\n",
    "\n",
    "    zero_in_interval = (ci_lower <= 0) & (0 <= ci_upper)\n",
    "    num_valid = np.where(zero_in_interval)[0].shape[0]\n",
    "    \n",
    "    print(np.where(zero_in_interval))\n",
    "    print(f\"Zero is in the 95% confidence interval at {num_valid} of {realizations.shape[1]} points.\")\n",
    "    \n",
    "    return num_valid\n",
    "    \n",
    "evaluate_means_by_confidence_intervals(vae_realizations)"
   ]
  },
  {
   "cell_type": "code",
   "execution_count": null,
   "id": "93afd102",
   "metadata": {},
   "outputs": [],
   "source": [
    "def compute_empirical_covariance(realizations):\n",
    "\n",
    "    covariance = np.cov(np.transpose(realizations))\n",
    "\n",
    "    return covariance"
   ]
  },
  {
   "cell_type": "code",
   "execution_count": null,
   "id": "d9a3abcf",
   "metadata": {},
   "outputs": [],
   "source": [
    "def evaluate_stationarity(realizations, lengthscale, grid, kernel_variance=1.0):\n",
    "\n",
    "    covariance = compute_empirical_covariance(realizations)\n",
    "\n",
    "    K = exp_sq_kernel(grid, grid, kernel_variance, lengthscale)\n",
    "\n",
    "    dist_to_cov = defaultdict(list)\n",
    "    for i in range(grid.shape[0]):\n",
    "        for j in range(i,grid.shape[0]):\n",
    "            dist_to_cov[abs(j-i)].append(covariance[i][j])\n",
    "\n",
    "    valid = []\n",
    "    for i in range(0,50):\n",
    "        dist_covariances = dist_to_cov[i]\n",
    "\n",
    "        percentile_5 = np.percentile(dist_covariances, 5)\n",
    "        percentile_95 = np.percentile(dist_covariances, 95)\n",
    "        \n",
    "        true_covariance = K[0][i]\n",
    "        zero_in_interval = (percentile_5 <= true_covariance) & (true_covariance <= percentile_95)\n",
    "        valid.append(zero_in_interval)\n",
    "\n",
    "    print(f\"Number of distances that failed: {np.where(np.logical_not(valid))[0].shape[0]}\")\n",
    "    print(f\"Number of distances that passed: {np.where(valid)[0].shape[0]}\")\n",
    "\n",
    "evaluate_stationarity(vae_realizations, lengthscale=0.2, grid=grid, kernel_variance=1.0)"
   ]
  },
  {
   "cell_type": "code",
   "execution_count": null,
   "id": "5ab10df1",
   "metadata": {},
   "outputs": [],
   "source": [
    "import numpy as np\n",
    "import matplotlib.pyplot as plt\n",
    "from collections import defaultdict\n",
    "\n",
    "\n",
    "n = 50\n",
    "\n",
    "dist_to_cov = defaultdict(list)\n",
    "vae_covariance = compute_empirical_covariance(vae_realizations)\n",
    "for i in range(n):\n",
    "    for j in range(i,n):\n",
    "        dist_to_cov[abs(j-i)].append(vae_covariance[i][j])"
   ]
  },
  {
   "cell_type": "code",
   "execution_count": null,
   "id": "c8bb0638",
   "metadata": {},
   "outputs": [],
   "source": [
    "K = exp_sq_kernel(grid, grid, 1.0, args['true_ls'])\n",
    "\n",
    "valid = []\n",
    "for i in range(0,50):\n",
    "    dist_covariances = dist_to_cov[i]\n",
    "\n",
    "    percentile_5 = np.percentile(dist_covariances, 5)\n",
    "    percentile_95 = np.percentile(dist_covariances, 95)\n",
    "    \n",
    "    true_covariance = K[0][i]\n",
    "    zero_in_interval = (percentile_5 <= true_covariance) & (true_covariance <= percentile_95)\n",
    "    valid.append(zero_in_interval)\n",
    "\n",
    "print(f\"Number of distances that failed: {np.where(np.logical_not(valid))[0].shape[0]}\")\n",
    "print(f\"Number of distances that passed: {np.where(valid)[0].shape[0]}\")"
   ]
  },
  {
   "cell_type": "code",
   "execution_count": null,
   "id": "5c3a4e5a",
   "metadata": {},
   "outputs": [],
   "source": [
    "vae_realizations.shape"
   ]
  },
  {
   "cell_type": "code",
   "execution_count": null,
   "id": "f5f9939b",
   "metadata": {
    "scrolled": false
   },
   "outputs": [],
   "source": [
    "import matplotlib.pyplot as plt\n",
    "\n",
    "\n",
    "for distance, covariances in dist_to_cov.items():\n",
    "    # Repeat the current distance for as many times as there are covariances\n",
    "    distances = [distance/50] * len(covariances)\n",
    "    plt.scatter(distances, covariances, alpha=0.5)\n",
    "    \n",
    "plt.xlabel('Distance')\n",
    "plt.ylabel('Covariance')\n",
    "plt.show()"
   ]
  },
  {
   "cell_type": "code",
   "execution_count": null,
   "id": "48f12e6b",
   "metadata": {},
   "outputs": [],
   "source": [
    "fig, ax = plt.subplots(figsize=(4,3))\n",
    "for i in range(15):\n",
    "    ax.plot(train_set.x[0], vae_realizations[i,:])\n",
    "    \n",
    "ax.plot(train_set.x[0], vae_realizations.mean(axis=0), c='black')\n",
    "ax.set_xlabel('$x$')\n",
    "ax.set_ylabel('$y=f_{VAE}(x)$')\n",
    "ax.set_title('Examples of learnt trajectories')\n",
    "\n",
    "plt.show()"
   ]
  },
  {
   "cell_type": "code",
   "execution_count": null,
   "id": "d9a6e526",
   "metadata": {},
   "outputs": [],
   "source": [
    "evaluate_covariance(gp_realizations, 0.2, grid)"
   ]
  },
  {
   "cell_type": "code",
   "execution_count": null,
   "id": "42ec6716",
   "metadata": {
    "scrolled": true
   },
   "outputs": [],
   "source": [
    "evaluate_covariance(vae_realizations, 0.2, grid)"
   ]
  },
  {
   "cell_type": "code",
   "execution_count": null,
   "id": "14a7c5bf",
   "metadata": {},
   "outputs": [],
   "source": [
    "import matplotlib.pyplot as plt\n",
    "import seaborn as sns\n",
    "\n",
    "fig, ax = plt.subplots(nrows=1, ncols=2, figsize=(20, 8))\n",
    "\n",
    "sns.heatmap(vae_covariance, annot=False, fmt='g', cmap='coolwarm', ax=ax[0])\n",
    "ax[0].set_title('Empirical Covariance Matrix')\n",
    "\n",
    "sns.heatmap(K, annot=False, fmt='g', cmap='coolwarm', ax=ax[1])\n",
    "ax[1].set_title('Squared Exponential Kernel')\n",
    "\n",
    "plt.show()\n"
   ]
  },
  {
   "cell_type": "code",
   "execution_count": null,
   "id": "d902347d",
   "metadata": {},
   "outputs": [],
   "source": []
  }
 ],
 "metadata": {
  "kernelspec": {
   "display_name": "Python 3 (ipykernel)",
   "language": "python",
   "name": "python3"
  },
  "language_info": {
   "codemirror_mode": {
    "name": "ipython",
    "version": 3
   },
   "file_extension": ".py",
   "mimetype": "text/x-python",
   "name": "python",
   "nbconvert_exporter": "python",
   "pygments_lexer": "ipython3",
   "version": "3.10.11"
  }
 },
 "nbformat": 4,
 "nbformat_minor": 5
}
