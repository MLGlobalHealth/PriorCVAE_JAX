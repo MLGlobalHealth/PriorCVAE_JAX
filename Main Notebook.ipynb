{
 "cells": [
  {
   "cell_type": "code",
   "execution_count": 11,
   "id": "00235709",
   "metadata": {},
   "outputs": [
    {
     "ename": "NameError",
     "evalue": "name 'jnp' is not defined",
     "output_type": "error",
     "traceback": [
      "\u001b[0;31m---------------------------------------------------------------------------\u001b[0m",
      "\u001b[0;31mNameError\u001b[0m                                 Traceback (most recent call last)",
      "Input \u001b[0;32mIn [11]\u001b[0m, in \u001b[0;36m<cell line: 3>\u001b[0;34m()\u001b[0m\n\u001b[1;32m      1\u001b[0m \u001b[38;5;28;01mfrom\u001b[39;00m \u001b[38;5;21;01mmodels\u001b[39;00m\u001b[38;5;21;01m.\u001b[39;00m\u001b[38;5;21;01mpriors\u001b[39;00m \u001b[38;5;28;01mimport\u001b[39;00m \u001b[38;5;241m*\u001b[39m\n\u001b[1;32m      2\u001b[0m x1 \u001b[38;5;241m=\u001b[39m jnp\u001b[38;5;241m.\u001b[39marray([\u001b[38;5;241m1\u001b[39m,\u001b[38;5;241m2\u001b[39m,\u001b[38;5;241m3\u001b[39m])\n\u001b[0;32m----> 3\u001b[0m \u001b[43mdist_euclid\u001b[49m\u001b[43m(\u001b[49m\u001b[43mx1\u001b[49m\u001b[43m,\u001b[49m\u001b[43mx1\u001b[49m\u001b[43m)\u001b[49m\n",
      "File \u001b[0;32m~/Dropbox/00 Oxford/96_cvae_jax_port/PriorCVAE_JAX/models/priors.py:4\u001b[0m, in \u001b[0;36mdist_euclid\u001b[0;34m(x, z)\u001b[0m\n\u001b[1;32m      3\u001b[0m \u001b[38;5;28;01mdef\u001b[39;00m \u001b[38;5;21mdist_euclid\u001b[39m(x, z):\n\u001b[0;32m----> 4\u001b[0m     x \u001b[38;5;241m=\u001b[39m \u001b[43mjnp\u001b[49m\u001b[38;5;241m.\u001b[39marray(x) \n\u001b[1;32m      5\u001b[0m     z \u001b[38;5;241m=\u001b[39m jnp\u001b[38;5;241m.\u001b[39marray(z)\n\u001b[1;32m      6\u001b[0m     \u001b[38;5;28;01mif\u001b[39;00m \u001b[38;5;28mlen\u001b[39m(x\u001b[38;5;241m.\u001b[39mshape)\u001b[38;5;241m==\u001b[39m\u001b[38;5;241m1\u001b[39m:\n",
      "\u001b[0;31mNameError\u001b[0m: name 'jnp' is not defined"
     ]
    }
   ],
   "source": [
    "from models.priors import *\n",
    "x1 = jnp.array([1,2,3])\n",
    "dist_euclid(x1,x1)"
   ]
  },
  {
   "cell_type": "code",
   "execution_count": 2,
   "id": "7dc27ae5",
   "metadata": {},
   "outputs": [
    {
     "data": {
      "text/plain": [
       "DeviceArray([[0., 1., 2.],\n",
       "             [1., 0., 1.],\n",
       "             [2., 1., 0.]], dtype=float32)"
      ]
     },
     "execution_count": 2,
     "metadata": {},
     "output_type": "execute_result"
    }
   ],
   "source": [
    "%run priors.py\n",
    "x1 = jnp.array([1,2,3])\n",
    "dist_euclid(x1,x1)"
   ]
  },
  {
   "cell_type": "code",
   "execution_count": 21,
   "id": "8921e609",
   "metadata": {},
   "outputs": [
    {
     "data": {
      "text/plain": [
       "['/Users/es/Dropbox/00 Oxford/96_cvae_jax_port/PriorCVAE_JAX',\n",
       " '/opt/anaconda3/envs/numpyro10_torch/lib/python38.zip',\n",
       " '/opt/anaconda3/envs/numpyro10_torch/lib/python3.8',\n",
       " '/opt/anaconda3/envs/numpyro10_torch/lib/python3.8/lib-dynload',\n",
       " '',\n",
       " '/opt/anaconda3/envs/numpyro10_torch/lib/python3.8/site-packages']"
      ]
     },
     "execution_count": 21,
     "metadata": {},
     "output_type": "execute_result"
    }
   ],
   "source": [
    "sys.path"
   ]
  },
  {
   "cell_type": "code",
   "execution_count": null,
   "id": "531e5575",
   "metadata": {},
   "outputs": [],
   "source": []
  }
 ],
 "metadata": {
  "kernelspec": {
   "display_name": "Python 3 (ipykernel)",
   "language": "python",
   "name": "python3"
  },
  "language_info": {
   "codemirror_mode": {
    "name": "ipython",
    "version": 3
   },
   "file_extension": ".py",
   "mimetype": "text/x-python",
   "name": "python",
   "nbconvert_exporter": "python",
   "pygments_lexer": "ipython3",
   "version": "3.8.16"
  }
 },
 "nbformat": 4,
 "nbformat_minor": 5
}
