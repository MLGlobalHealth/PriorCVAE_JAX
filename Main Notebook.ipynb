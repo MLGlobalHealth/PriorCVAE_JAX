{
 "cells": [
  {
   "cell_type": "markdown",
   "id": "c39cf8c0",
   "metadata": {},
   "source": [
    "### Load modules"
   ]
  },
  {
   "cell_type": "code",
   "execution_count": 1,
   "id": "16aaae31",
   "metadata": {},
   "outputs": [
    {
     "name": "stderr",
     "output_type": "stream",
     "text": [
      "/Users/or105/anaconda3/envs/numpyro11_jax/lib/python3.10/site-packages/flax/struct.py:132: FutureWarning: jax.tree_util.register_keypaths is deprecated, and will be removed in a future release. Please use `register_pytree_with_keys()` instead.\n",
      "  jax.tree_util.register_keypaths(data_clz, keypaths)\n",
      "/Users/or105/anaconda3/envs/numpyro11_jax/lib/python3.10/site-packages/flax/struct.py:132: FutureWarning: jax.tree_util.register_keypaths is deprecated, and will be removed in a future release. Please use `register_pytree_with_keys()` instead.\n",
      "  jax.tree_util.register_keypaths(data_clz, keypaths)\n",
      "/Users/or105/anaconda3/envs/numpyro11_jax/lib/python3.10/site-packages/flax/struct.py:132: FutureWarning: jax.tree_util.register_keypaths is deprecated, and will be removed in a future release. Please use `register_pytree_with_keys()` instead.\n",
      "  jax.tree_util.register_keypaths(data_clz, keypaths)\n"
     ]
    },
    {
     "name": "stdout",
     "output_type": "stream",
     "text": [
      "Pytorch version:  1.12.1\n",
      "Numpyro version:  0.11.0\n",
      "JAX version:      0.4.12\n",
      "Flax version:     0.6.1\n",
      "Optax version:    0.1.4\n",
      "Pythorch version: 3.10.11\n"
     ]
    }
   ],
   "source": [
    "# general\n",
    "import os\n",
    "import sys\n",
    "import time\n",
    "import numpy as np \n",
    "import matplotlib.pyplot as plt \n",
    "import random as rnd\n",
    "import time\n",
    "\n",
    "# Numpyro\n",
    "import numpyro\n",
    "import numpyro.distributions as npdist\n",
    "from numpyro.infer import Predictive, init_to_median, MCMC, NUTS\n",
    "from numpyro.diagnostics import hpdi\n",
    "\n",
    "numpyro.set_host_device_count(4)\n",
    "\n",
    "#JAX\n",
    "import jax\n",
    "import flax\n",
    "from jax.tree_util import tree_map\n",
    "from flax.training import train_state  # Useful dataclass to keep train state\n",
    "import optax\n",
    "\n",
    "# PyTorch\n",
    "import torch\n",
    "import torch.utils.data as data\n",
    "\n",
    "# check versions\n",
    "print('Pytorch version: ',   torch.__version__)\n",
    "print('Numpyro version: ', numpyro.__version__)\n",
    "print('JAX version:     ',     jax.__version__)\n",
    "print('Flax version:    ',    flax.__version__)\n",
    "print('Optax version:   ',   optax.__version__)\n",
    "from platform import python_version\n",
    "print('Pythorch version:',python_version())\n",
    "\n",
    "# import priors \n",
    "#from models.priors import *\n",
    "\n",
    "# import functions to load data\n",
    "from priorCVAE.models.data import *\n",
    "\n",
    "# import VAE architecture\n",
    "from priorCVAE.models.cvae import *\n",
    "\n",
    "# import loss functions\n",
    "from priorCVAE.models.losses import *\n",
    "\n",
    "# Test dist_euclid\n",
    "#x1 = jnp.array([1,2,3])\n",
    "#dist_euclid(x1,x1)\n",
    "\n",
    "# test kl_divergence\n",
    "#x1 = jnp.array([1.1,2,3])\n",
    "#kl = kl_divergence(x1, x1)\n",
    "#kl"
   ]
  },
  {
   "cell_type": "code",
   "execution_count": 2,
   "id": "261d589a",
   "metadata": {},
   "outputs": [],
   "source": [
    "# test architecture using test_architecture.py"
   ]
  },
  {
   "cell_type": "markdown",
   "id": "239c2ee4",
   "metadata": {},
   "source": [
    "### Setup arguments"
   ]
  },
  {
   "cell_type": "code",
   "execution_count": 4,
   "id": "add79edb",
   "metadata": {},
   "outputs": [],
   "source": [
    "args = {\"seed\": 0,\n",
    "        \n",
    "        # data\n",
    "        \"num_samples\": 10000,\n",
    "        \n",
    "        # architecture\n",
    "        \"conditional\": False,   # CVAE if True, VAE otherwise\n",
    "        \"input_dim\" : 50,\n",
    "        \"hidden_dim\": 40,\n",
    "        \"latent_dim\": 30,\n",
    "        \n",
    "        # VAE training    \n",
    "        \"batch_size\": 100,\n",
    "        \"num_epochs\": 200,\n",
    "\n",
    "        # MCMC inference\n",
    "        \"true_ls\": 0.2\n",
    "       }"
   ]
  },
  {
   "cell_type": "markdown",
   "id": "efe4ac12",
   "metadata": {},
   "source": [
    "### Generate data\n"
   ]
  },
  {
   "cell_type": "code",
   "execution_count": 5,
   "id": "2197cc36",
   "metadata": {},
   "outputs": [
    {
     "name": "stderr",
     "output_type": "stream",
     "text": [
      "/Users/or105/anaconda3/envs/numpyro11_jax/lib/python3.10/site-packages/flax/struct.py:132: FutureWarning: jax.tree_util.register_keypaths is deprecated, and will be removed in a future release. Please use `register_pytree_with_keys()` instead.\n",
      "  jax.tree_util.register_keypaths(data_clz, keypaths)\n",
      "/Users/or105/anaconda3/envs/numpyro11_jax/lib/python3.10/site-packages/flax/struct.py:132: FutureWarning: jax.tree_util.register_keypaths is deprecated, and will be removed in a future release. Please use `register_pytree_with_keys()` instead.\n",
      "  jax.tree_util.register_keypaths(data_clz, keypaths)\n",
      "/Users/or105/anaconda3/envs/numpyro11_jax/lib/python3.10/site-packages/flax/struct.py:132: FutureWarning: jax.tree_util.register_keypaths is deprecated, and will be removed in a future release. Please use `register_pytree_with_keys()` instead.\n",
      "  jax.tree_util.register_keypaths(data_clz, keypaths)\n",
      "/Users/or105/anaconda3/envs/numpyro11_jax/lib/python3.10/site-packages/flax/struct.py:132: FutureWarning: jax.tree_util.register_keypaths is deprecated, and will be removed in a future release. Please use `register_pytree_with_keys()` instead.\n",
      "  jax.tree_util.register_keypaths(data_clz, keypaths)\n",
      "/Users/or105/anaconda3/envs/numpyro11_jax/lib/python3.10/site-packages/flax/struct.py:132: FutureWarning: jax.tree_util.register_keypaths is deprecated, and will be removed in a future release. Please use `register_pytree_with_keys()` instead.\n",
      "  jax.tree_util.register_keypaths(data_clz, keypaths)\n",
      "/Users/or105/anaconda3/envs/numpyro11_jax/lib/python3.10/site-packages/flax/struct.py:132: FutureWarning: jax.tree_util.register_keypaths is deprecated, and will be removed in a future release. Please use `register_pytree_with_keys()` instead.\n",
      "  jax.tree_util.register_keypaths(data_clz, keypaths)\n",
      "/Users/or105/anaconda3/envs/numpyro11_jax/lib/python3.10/site-packages/flax/struct.py:132: FutureWarning: jax.tree_util.register_keypaths is deprecated, and will be removed in a future release. Please use `register_pytree_with_keys()` instead.\n",
      "  jax.tree_util.register_keypaths(data_clz, keypaths)\n",
      "/Users/or105/anaconda3/envs/numpyro11_jax/lib/python3.10/site-packages/flax/struct.py:132: FutureWarning: jax.tree_util.register_keypaths is deprecated, and will be removed in a future release. Please use `register_pytree_with_keys()` instead.\n",
      "  jax.tree_util.register_keypaths(data_clz, keypaths)\n",
      "/Users/or105/anaconda3/envs/numpyro11_jax/lib/python3.10/site-packages/flax/struct.py:132: FutureWarning: jax.tree_util.register_keypaths is deprecated, and will be removed in a future release. Please use `register_pytree_with_keys()` instead.\n",
      "  jax.tree_util.register_keypaths(data_clz, keypaths)\n",
      "/Users/or105/anaconda3/envs/numpyro11_jax/lib/python3.10/site-packages/flax/struct.py:132: FutureWarning: jax.tree_util.register_keypaths is deprecated, and will be removed in a future release. Please use `register_pytree_with_keys()` instead.\n",
      "  jax.tree_util.register_keypaths(data_clz, keypaths)\n",
      "/Users/or105/anaconda3/envs/numpyro11_jax/lib/python3.10/site-packages/flax/struct.py:132: FutureWarning: jax.tree_util.register_keypaths is deprecated, and will be removed in a future release. Please use `register_pytree_with_keys()` instead.\n",
      "  jax.tree_util.register_keypaths(data_clz, keypaths)\n",
      "/Users/or105/anaconda3/envs/numpyro11_jax/lib/python3.10/site-packages/flax/struct.py:132: FutureWarning: jax.tree_util.register_keypaths is deprecated, and will be removed in a future release. Please use `register_pytree_with_keys()` instead.\n",
      "  jax.tree_util.register_keypaths(data_clz, keypaths)\n",
      "/Users/or105/anaconda3/envs/numpyro11_jax/lib/python3.10/site-packages/flax/struct.py:132: FutureWarning: jax.tree_util.register_keypaths is deprecated, and will be removed in a future release. Please use `register_pytree_with_keys()` instead.\n",
      "  jax.tree_util.register_keypaths(data_clz, keypaths)\n",
      "/Users/or105/anaconda3/envs/numpyro11_jax/lib/python3.10/site-packages/flax/struct.py:132: FutureWarning: jax.tree_util.register_keypaths is deprecated, and will be removed in a future release. Please use `register_pytree_with_keys()` instead.\n",
      "  jax.tree_util.register_keypaths(data_clz, keypaths)\n",
      "/Users/or105/anaconda3/envs/numpyro11_jax/lib/python3.10/site-packages/flax/struct.py:132: FutureWarning: jax.tree_util.register_keypaths is deprecated, and will be removed in a future release. Please use `register_pytree_with_keys()` instead.\n",
      "  jax.tree_util.register_keypaths(data_clz, keypaths)\n",
      "/Users/or105/anaconda3/envs/numpyro11_jax/lib/python3.10/site-packages/flax/struct.py:132: FutureWarning: jax.tree_util.register_keypaths is deprecated, and will be removed in a future release. Please use `register_pytree_with_keys()` instead.\n",
      "  jax.tree_util.register_keypaths(data_clz, keypaths)\n",
      "/Users/or105/anaconda3/envs/numpyro11_jax/lib/python3.10/site-packages/flax/struct.py:132: FutureWarning: jax.tree_util.register_keypaths is deprecated, and will be removed in a future release. Please use `register_pytree_with_keys()` instead.\n",
      "  jax.tree_util.register_keypaths(data_clz, keypaths)\n",
      "/Users/or105/anaconda3/envs/numpyro11_jax/lib/python3.10/site-packages/flax/struct.py:132: FutureWarning: jax.tree_util.register_keypaths is deprecated, and will be removed in a future release. Please use `register_pytree_with_keys()` instead.\n",
      "  jax.tree_util.register_keypaths(data_clz, keypaths)\n",
      "/Users/or105/anaconda3/envs/numpyro11_jax/lib/python3.10/site-packages/flax/struct.py:132: FutureWarning: jax.tree_util.register_keypaths is deprecated, and will be removed in a future release. Please use `register_pytree_with_keys()` instead.\n",
      "  jax.tree_util.register_keypaths(data_clz, keypaths)\n",
      "/Users/or105/anaconda3/envs/numpyro11_jax/lib/python3.10/site-packages/flax/struct.py:132: FutureWarning: jax.tree_util.register_keypaths is deprecated, and will be removed in a future release. Please use `register_pytree_with_keys()` instead.\n",
      "  jax.tree_util.register_keypaths(data_clz, keypaths)\n",
      "/Users/or105/anaconda3/envs/numpyro11_jax/lib/python3.10/site-packages/flax/struct.py:132: FutureWarning: jax.tree_util.register_keypaths is deprecated, and will be removed in a future release. Please use `register_pytree_with_keys()` instead.\n",
      "  jax.tree_util.register_keypaths(data_clz, keypaths)\n",
      "/Users/or105/anaconda3/envs/numpyro11_jax/lib/python3.10/site-packages/flax/struct.py:132: FutureWarning: jax.tree_util.register_keypaths is deprecated, and will be removed in a future release. Please use `register_pytree_with_keys()` instead.\n",
      "  jax.tree_util.register_keypaths(data_clz, keypaths)\n",
      "/Users/or105/anaconda3/envs/numpyro11_jax/lib/python3.10/site-packages/flax/struct.py:132: FutureWarning: jax.tree_util.register_keypaths is deprecated, and will be removed in a future release. Please use `register_pytree_with_keys()` instead.\n",
      "  jax.tree_util.register_keypaths(data_clz, keypaths)\n",
      "/Users/or105/anaconda3/envs/numpyro11_jax/lib/python3.10/site-packages/flax/struct.py:132: FutureWarning: jax.tree_util.register_keypaths is deprecated, and will be removed in a future release. Please use `register_pytree_with_keys()` instead.\n",
      "  jax.tree_util.register_keypaths(data_clz, keypaths)\n"
     ]
    }
   ],
   "source": [
    "\n",
    "\n",
    "train_set = Dataset_GP1d(n_dataPoints=args[\"input_dim\"], n_samples=args[\"num_samples\"], seed=42)  \n",
    "val_set   = Dataset_GP1d(n_dataPoints=args[\"input_dim\"], n_samples=args[\"num_samples\"], seed=43)  \n",
    "test_set  = Dataset_GP1d(n_dataPoints=args[\"input_dim\"], n_samples=args[\"num_samples\"], seed=44)  \n",
    "\n",
    "train_loader, val_loader, test_loader = create_data_loaders(train_set, val_set, test_set,\n",
    "                                                            #train=[True, False, False],\n",
    "                                                            train=[True, True, True],\n",
    "                                                            batch_size=args[\"batch_size\"])\n",
    "\n",
    "# these lines are VERY slow and produce MANY warnings - consider removing them\n",
    "train_loader_iter = iter(train_loader)\n",
    "val_loader_iter   = iter(val_loader)\n",
    "test_loader_iter  = iter(test_loader)"
   ]
  },
  {
   "cell_type": "code",
   "execution_count": 6,
   "id": "003c5097",
   "metadata": {},
   "outputs": [
    {
     "data": {
      "text/plain": [
       "<matplotlib.legend.Legend at 0x2900b2d70>"
      ]
     },
     "execution_count": 6,
     "metadata": {},
     "output_type": "execute_result"
    },
    {
     "data": {
      "image/png": "[encoded data removed]",
      "text/plain": [
       "<Figure size 432x288 with 1 Axes>"
      ]
     },
     "metadata": {
      "needs_background": "light"
     },
     "output_type": "display_data"
    }
   ],
   "source": [
    "# check: what lengthscales are we generating? \n",
    "\n",
    "ls_train_set = train_set.ls\n",
    "ls_val_set   = val_set.ls\n",
    "ls_test_set  = test_set.ls\n",
    "\n",
    "plt.hist(ls_train_set, alpha = 0.3, label = 'train ls') \n",
    "plt.hist(ls_val_set,   alpha = 0.3, label = 'val ls') \n",
    "plt.hist(ls_test_set,  alpha = 0.3, label = 'test ls') \n",
    "plt.xlim(0,1)\n",
    "plt.legend()"
   ]
  },
  {
   "cell_type": "code",
   "execution_count": 7,
   "id": "de668eff",
   "metadata": {},
   "outputs": [
    {
     "data": {
      "image/png": "[encoded data removed]",
      "text/plain": [
       "<Figure size 432x288 with 1 Axes>"
      ]
     },
     "metadata": {
      "needs_background": "light"
     },
     "output_type": "display_data"
    }
   ],
   "source": [
    "# check: what trajectories are we generating?\n",
    "\n",
    "fig, ax = plt.subplots()\n",
    "for i in range(15):\n",
    "    if train_set.ls[i] <= 0.2:\n",
    "        col = 'orange'\n",
    "    elif train_set.ls[i] <= 0.6:\n",
    "        col = 'green'\n",
    "    else:\n",
    "        col = 'blue'\n",
    "    ax.plot(train_set.x[i], train_set.y[i], color=col)\n",
    "ax.set_xlabel('$x$')\n",
    "ax.set_ylabel('$y=f(x)$')\n",
    "ax.set_title('example GP trajectories')\n",
    "\n",
    "plt.show()"
   ]
  },
  {
   "cell_type": "markdown",
   "id": "a53d83a8",
   "metadata": {},
   "source": [
    "### VAE Model"
   ]
  },
  {
   "cell_type": "code",
   "execution_count": 8,
   "id": "a5a42ae4",
   "metadata": {},
   "outputs": [],
   "source": [
    "out_dim     = args[\"input_dim\"]\n",
    "hidden_dim  = args[\"hidden_dim\"]\n",
    "latent_dim  = args[\"latent_dim\"]\n",
    "conditional = args[\"conditional\"]\n",
    "batch_size  = args[\"batch_size\"]\n",
    "num_samples = args[\"num_samples\"]\n",
    "num_epochs  = args[\"num_epochs\"]"
   ]
  },
  {
   "cell_type": "markdown",
   "id": "a67bb555",
   "metadata": {},
   "source": [
    "### Training loop"
   ]
  },
  {
   "cell_type": "code",
   "execution_count": 9,
   "id": "1ff8314a",
   "metadata": {},
   "outputs": [],
   "source": [
    "@jax.jit\n",
    "def train_step(state, batch):\n",
    "    def loss_fn(params):\n",
    "        _, y, _ = batch \n",
    "        y_hat, z_mu, z_sd = model.apply({'params': params}, y) \n",
    "        rcl_loss = rcl(y_hat, y).mean()\n",
    "        kld_loss = kl_divergence(z_mu, z_sd).mean()\n",
    "        loss = rcl_loss + kld_loss\n",
    "        return loss\n",
    "    \n",
    "    grads = jax.grad(loss_fn)(state.params)\n",
    "    return state.apply_gradients(grads=grads), loss_fn(state.params)"
   ]
  },
  {
   "cell_type": "code",
   "execution_count": 9,
   "id": "bf3e41cf",
   "metadata": {},
   "outputs": [],
   "source": [
    "@jax.jit\n",
    "def eval(state, batch):\n",
    "    def loss_fn(params):\n",
    "        _, y, _ = batch \n",
    "        y_hat, z_mu, z_sd = model.apply({'params': params}, y) \n",
    "        rcl_loss = rcl(y_hat, y).mean()\n",
    "        kld_loss = kl_divergence(z_mu, z_sd).mean()\n",
    "        loss = rcl_loss + kld_loss\n",
    "        return loss\n",
    "    \n",
    "    return loss_fn(state.params)"
   ]
  },
  {
   "cell_type": "code",
   "execution_count": 10,
   "id": "512f3afb",
   "metadata": {},
   "outputs": [
    {
     "name": "stdout",
     "output_type": "stream",
     "text": [
      "[    1] training loss: 1819.876\n",
      "[   11] training loss: 486.304\n",
      "[   21] training loss: 405.390\n",
      "[   31] training loss: 260.178\n",
      "[   41] training loss: 148.557\n",
      "[   51] training loss: 154.284\n",
      "[   61] training loss: 135.524\n",
      "[   71] training loss: 224.935\n",
      "[   81] training loss: 160.910\n",
      "[   91] training loss: 131.628\n",
      "[  101] training loss: 183.144\n",
      "[  111] training loss: 119.495\n",
      "[  121] training loss: 147.419\n",
      "[  131] training loss: 116.440\n",
      "[  141] training loss: 173.579\n",
      "[  151] training loss: 114.618\n",
      "[  161] training loss: 192.068\n",
      "[  171] training loss: 198.779\n",
      "[  181] training loss: 73.713\n",
      "[  191] training loss: 86.466\n",
      "Training of 200 epochs took 15 seconds\n"
     ]
    },
    {
     "data": {
      "text/plain": [
       "<matplotlib.legend.Legend at 0x7f880b67f6a0>"
      ]
     },
     "execution_count": 10,
     "metadata": {},
     "output_type": "execute_result"
    },
    {
     "data": {
      "image/png": "[encoded data removed]",
      "text/plain": [
       "<Figure size 432x288 with 1 Axes>"
      ]
     },
     "metadata": {
      "needs_background": "light"
     },
     "output_type": "display_data"
    }
   ],
   "source": [
    "# define model\n",
    "model = VAE(hidden_dim, latent_dim, out_dim, conditional)\n",
    "\n",
    "# initialise parameters\n",
    "key = jax.random.PRNGKey(0) \n",
    "batch_init = next(val_loader_iter) # batch[0] - x, batch[1] - y, batch[2] - c\n",
    "_, y, _ = batch_init\n",
    "params = model.init(key, y)['params']\n",
    "\n",
    "# optimizer\n",
    "optimizer = optax.adam(learning_rate=0.001)\n",
    "\n",
    "# store training state\n",
    "state = train_state.TrainState.create(apply_fn=model, params=params, tx=optimizer)\n",
    "\n",
    "# check architecture\n",
    "#print(model.tabulate(key, train_set.y,\n",
    "#      console_kwargs={'force_terminal': False, 'force_jupyter': True}))\n",
    "\n",
    "_loss_train = []\n",
    "\n",
    "t_start = time.time()\n",
    "\n",
    "for epoch in range(num_epochs):\n",
    "    for _, batch_train in enumerate(train_loader):\n",
    "        state, loss_train = train_step(state, batch_train)\n",
    "        _loss_train.append(loss_train)\n",
    "\n",
    "    if epoch % 10 == 0:    # print every 10 epochs\n",
    "        print(f'[{epoch + 1:5d}] training loss: {loss_train:.3f}')\n",
    "\n",
    "t_elapsed = time.time() - t_start\n",
    "\n",
    "print(f'Training of {num_epochs} epochs took {round(t_elapsed)} seconds')\n",
    "\n",
    "assert len(_loss_train) == num_epochs * num_samples // batch_size\n",
    "\n",
    "plt.plot(range(len(_loss_train)), _loss_train, label = 'Training loss')\n",
    "plt.legend()\n",
    "\n"
   ]
  },
  {
   "cell_type": "code",
   "execution_count": 11,
   "id": "5211d81e",
   "metadata": {},
   "outputs": [
    {
     "name": "stdout",
     "output_type": "stream",
     "text": [
      "[    1] training loss: 1654.566, test loss: 1552.158\n",
      "[    2] training loss: 1137.671, test loss: 1228.077\n",
      "[    3] training loss: 945.969, test loss: 950.836\n",
      "[    4] training loss: 838.989, test loss: 841.763\n",
      "[    5] training loss: 759.607, test loss: 732.227\n",
      "[    6] training loss: 691.812, test loss: 607.931\n",
      "[    7] training loss: 618.633, test loss: 513.183\n",
      "[    8] training loss: 610.484, test loss: 465.740\n",
      "[    9] training loss: 537.802, test loss: 536.019\n",
      "[   10] training loss: 473.555, test loss: 452.994\n",
      "[   11] training loss: 458.077, test loss: 447.971\n",
      "[   12] training loss: 312.188, test loss: 396.458\n",
      "[   13] training loss: 324.717, test loss: 379.318\n",
      "[   14] training loss: 391.320, test loss: 269.460\n",
      "[   15] training loss: 251.299, test loss: 331.323\n",
      "[   16] training loss: 269.839, test loss: 332.522\n",
      "[   17] training loss: 319.851, test loss: 229.134\n",
      "[   18] training loss: 333.244, test loss: 244.497\n",
      "[   19] training loss: 195.682, test loss: 284.603\n",
      "[   20] training loss: 187.775, test loss: 262.912\n",
      "[   21] training loss: 349.226, test loss: 269.564\n",
      "[   22] training loss: 199.605, test loss: 308.509\n",
      "[   23] training loss: 212.680, test loss: 283.989\n",
      "[   24] training loss: 190.381, test loss: 262.010\n",
      "[   25] training loss: 305.683, test loss: 299.450\n",
      "[   26] training loss: 248.872, test loss: 235.037\n",
      "[   27] training loss: 179.767, test loss: 142.502\n",
      "[   28] training loss: 140.171, test loss: 175.263\n",
      "[   29] training loss: 320.741, test loss: 210.149\n",
      "[   30] training loss: 255.048, test loss: 237.906\n",
      "[   31] training loss: 183.261, test loss: 224.679\n",
      "[   32] training loss: 228.168, test loss: 295.614\n",
      "[   33] training loss: 183.493, test loss: 247.149\n",
      "[   34] training loss: 180.533, test loss: 294.584\n",
      "[   35] training loss: 235.395, test loss: 237.195\n",
      "[   36] training loss: 139.175, test loss: 228.813\n",
      "[   37] training loss: 316.208, test loss: 174.494\n",
      "[   38] training loss: 188.593, test loss: 257.226\n",
      "[   39] training loss: 153.259, test loss: 171.810\n",
      "[   40] training loss: 177.625, test loss: 114.472\n",
      "[   41] training loss: 250.317, test loss: 178.842\n",
      "[   42] training loss: 145.831, test loss: 184.778\n",
      "[   43] training loss: 158.210, test loss: 215.900\n",
      "[   44] training loss: 180.962, test loss: 154.352\n",
      "[   45] training loss: 231.352, test loss: 239.787\n",
      "[   46] training loss: 181.792, test loss: 175.378\n",
      "[   47] training loss: 194.376, test loss: 148.056\n",
      "[   48] training loss: 175.218, test loss: 172.295\n",
      "[   49] training loss: 210.975, test loss: 137.545\n",
      "[   50] training loss: 131.236, test loss: 138.679\n",
      "[   51] training loss: 133.004, test loss: 127.348\n",
      "[   52] training loss: 151.059, test loss: 170.189\n",
      "[   53] training loss: 152.834, test loss: 221.244\n",
      "[   54] training loss: 143.771, test loss: 232.614\n",
      "[   55] training loss: 234.807, test loss: 82.530\n",
      "[   56] training loss: 149.750, test loss: 139.820\n",
      "[   57] training loss: 168.790, test loss: 78.560\n",
      "[   58] training loss: 131.076, test loss: 192.721\n",
      "[   59] training loss: 185.696, test loss: 163.068\n",
      "[   60] training loss: 150.786, test loss: 152.501\n",
      "[   61] training loss: 123.636, test loss: 184.244\n",
      "[   62] training loss: 145.469, test loss: 212.321\n",
      "[   63] training loss: 119.712, test loss: 118.431\n",
      "[   64] training loss: 92.929, test loss: 194.347\n",
      "[   65] training loss: 168.439, test loss: 111.000\n",
      "[   66] training loss: 153.853, test loss: 144.602\n",
      "[   67] training loss: 163.301, test loss: 146.034\n",
      "[   68] training loss: 153.807, test loss: 101.888\n",
      "[   69] training loss: 135.335, test loss: 199.152\n",
      "[   70] training loss: 127.776, test loss: 184.224\n",
      "[   71] training loss: 157.837, test loss: 148.850\n",
      "[   72] training loss: 150.970, test loss: 126.339\n",
      "[   73] training loss: 134.879, test loss: 161.194\n",
      "[   74] training loss: 175.114, test loss: 131.641\n",
      "[   75] training loss: 148.120, test loss: 159.325\n",
      "[   76] training loss: 171.294, test loss: 135.924\n",
      "[   77] training loss: 159.878, test loss: 89.098\n",
      "[   78] training loss: 143.633, test loss: 175.015\n",
      "[   79] training loss: 197.374, test loss: 108.346\n",
      "[   80] training loss: 121.228, test loss: 96.568\n",
      "[   81] training loss: 118.595, test loss: 99.468\n",
      "[   82] training loss: 225.049, test loss: 193.854\n",
      "[   83] training loss: 178.650, test loss: 153.047\n",
      "[   84] training loss: 173.554, test loss: 100.060\n",
      "[   85] training loss: 208.243, test loss: 235.683\n",
      "[   86] training loss: 163.556, test loss: 174.292\n",
      "[   87] training loss: 187.867, test loss: 126.700\n",
      "[   88] training loss: 132.577, test loss: 194.478\n",
      "[   89] training loss: 109.806, test loss: 98.404\n",
      "[   90] training loss: 180.004, test loss: 147.649\n",
      "[   91] training loss: 170.488, test loss: 243.332\n",
      "[   92] training loss: 135.016, test loss: 191.875\n",
      "[   93] training loss: 137.054, test loss: 153.663\n",
      "[   94] training loss: 193.634, test loss: 122.637\n",
      "[   95] training loss: 183.307, test loss: 179.350\n",
      "[   96] training loss: 125.148, test loss: 168.868\n",
      "[   97] training loss: 158.535, test loss: 161.428\n",
      "[   98] training loss: 143.107, test loss: 130.034\n",
      "[   99] training loss: 174.140, test loss: 132.308\n",
      "[  100] training loss: 167.961, test loss: 153.947\n",
      "[  101] training loss: 192.270, test loss: 120.300\n",
      "[  102] training loss: 162.522, test loss: 145.075\n",
      "[  103] training loss: 183.563, test loss: 195.382\n",
      "[  104] training loss: 174.431, test loss: 168.798\n",
      "[  105] training loss: 172.477, test loss: 136.256\n",
      "[  106] training loss: 171.153, test loss: 133.728\n",
      "[  107] training loss: 214.298, test loss: 103.422\n",
      "[  108] training loss: 237.474, test loss: 146.595\n",
      "[  109] training loss: 165.543, test loss: 162.554\n",
      "[  110] training loss: 170.105, test loss: 106.517\n",
      "[  111] training loss: 119.956, test loss: 137.879\n",
      "[  112] training loss: 98.140, test loss: 152.441\n",
      "[  113] training loss: 130.621, test loss: 191.671\n",
      "[  114] training loss: 167.090, test loss: 185.153\n",
      "[  115] training loss: 92.285, test loss: 124.130\n",
      "[  116] training loss: 177.090, test loss: 152.846\n",
      "[  117] training loss: 105.387, test loss: 198.068\n",
      "[  118] training loss: 142.811, test loss: 133.191\n",
      "[  119] training loss: 177.576, test loss: 109.675\n",
      "[  120] training loss: 138.300, test loss: 62.795\n",
      "[  121] training loss: 93.064, test loss: 171.766\n",
      "[  122] training loss: 94.109, test loss: 192.621\n",
      "[  123] training loss: 125.207, test loss: 104.068\n",
      "[  124] training loss: 140.640, test loss: 303.384\n",
      "[  125] training loss: 151.804, test loss: 72.618\n",
      "[  126] training loss: 202.557, test loss: 179.108\n",
      "[  127] training loss: 119.031, test loss: 137.014\n",
      "[  128] training loss: 118.385, test loss: 139.171\n",
      "[  129] training loss: 142.870, test loss: 170.904\n",
      "[  130] training loss: 148.767, test loss: 139.402\n",
      "[  131] training loss: 147.312, test loss: 57.714\n",
      "[  132] training loss: 122.897, test loss: 125.178\n",
      "[  133] training loss: 127.471, test loss: 138.168\n",
      "[  134] training loss: 132.936, test loss: 134.044\n",
      "[  135] training loss: 201.478, test loss: 199.303\n",
      "[  136] training loss: 116.278, test loss: 165.489\n",
      "[  137] training loss: 152.473, test loss: 83.058\n",
      "[  138] training loss: 167.693, test loss: 98.794\n",
      "[  139] training loss: 60.529, test loss: 177.424\n",
      "[  140] training loss: 109.478, test loss: 142.867\n",
      "[  141] training loss: 63.993, test loss: 151.627\n",
      "[  142] training loss: 123.518, test loss: 202.130\n",
      "[  143] training loss: 137.869, test loss: 117.523\n",
      "[  144] training loss: 167.084, test loss: 123.712\n",
      "[  145] training loss: 84.023, test loss: 147.582\n",
      "[  146] training loss: 114.358, test loss: 187.902\n",
      "[  147] training loss: 132.793, test loss: 104.843\n",
      "[  148] training loss: 165.448, test loss: 147.770\n",
      "[  149] training loss: 116.293, test loss: 131.433\n",
      "[  150] training loss: 109.903, test loss: 114.418\n",
      "[  151] training loss: 163.311, test loss: 132.138\n",
      "[  152] training loss: 170.959, test loss: 49.334\n",
      "[  153] training loss: 167.702, test loss: 159.678\n",
      "[  154] training loss: 211.824, test loss: 219.065\n",
      "[  155] training loss: 124.519, test loss: 86.264\n",
      "[  156] training loss: 151.689, test loss: 113.150\n",
      "[  157] training loss: 95.582, test loss: 191.043\n",
      "[  158] training loss: 57.424, test loss: 102.503\n",
      "[  159] training loss: 156.866, test loss: 147.514\n",
      "[  160] training loss: 83.492, test loss: 145.669\n",
      "[  161] training loss: 145.448, test loss: 115.748\n",
      "[  162] training loss: 126.941, test loss: 116.713\n",
      "[  163] training loss: 86.245, test loss: 163.174\n",
      "[  164] training loss: 93.725, test loss: 106.452\n",
      "[  165] training loss: 132.933, test loss: 147.738\n",
      "[  166] training loss: 91.363, test loss: 111.302\n",
      "[  167] training loss: 131.664, test loss: 127.762\n",
      "[  168] training loss: 87.920, test loss: 141.423\n",
      "[  169] training loss: 132.576, test loss: 97.164\n",
      "[  170] training loss: 160.444, test loss: 113.297\n",
      "[  171] training loss: 203.073, test loss: 130.839\n",
      "[  172] training loss: 109.260, test loss: 136.987\n",
      "[  173] training loss: 110.468, test loss: 242.802\n",
      "[  174] training loss: 67.979, test loss: 49.062\n",
      "[  175] training loss: 176.962, test loss: 203.635\n",
      "[  176] training loss: 80.799, test loss: 115.712\n",
      "[  177] training loss: 96.080, test loss: 114.808\n",
      "[  178] training loss: 92.145, test loss: 128.402\n",
      "[  179] training loss: 200.472, test loss: 131.367\n",
      "[  180] training loss: 136.188, test loss: 192.569\n",
      "[  181] training loss: 83.766, test loss: 99.011\n",
      "[  182] training loss: 152.439, test loss: 155.690\n",
      "[  183] training loss: 144.035, test loss: 173.212\n",
      "[  184] training loss: 145.375, test loss: 86.547\n",
      "[  185] training loss: 152.988, test loss: 90.230\n",
      "[  186] training loss: 131.018, test loss: 89.013\n",
      "[  187] training loss: 140.151, test loss: 126.621\n",
      "[  188] training loss: 155.582, test loss: 72.786\n",
      "[  189] training loss: 150.456, test loss: 96.755\n",
      "[  190] training loss: 117.617, test loss: 141.051\n",
      "[  191] training loss: 100.456, test loss: 115.757\n",
      "[  192] training loss: 207.863, test loss: 167.151\n",
      "[  193] training loss: 165.722, test loss: 137.544\n",
      "[  194] training loss: 115.618, test loss: 189.963\n",
      "[  195] training loss: 216.875, test loss: 150.688\n",
      "[  196] training loss: 116.445, test loss: 170.612\n",
      "[  197] training loss: 73.343, test loss: 170.802\n",
      "[  198] training loss: 181.767, test loss: 169.192\n",
      "[  199] training loss: 159.599, test loss: 128.145\n",
      "[  200] training loss: 66.093, test loss: 178.599\n",
      "Training of 10 epochs took 27 seconds\n"
     ]
    },
    {
     "data": {
      "text/plain": [
       "<matplotlib.legend.Legend at 0x7f88285a9fc0>"
      ]
     },
     "execution_count": 11,
     "metadata": {},
     "output_type": "execute_result"
    },
    {
     "data": {
      "image/png": "[encoded data removed]",
      "text/plain": [
       "<Figure size 432x288 with 1 Axes>"
      ]
     },
     "metadata": {
      "needs_background": "light"
     },
     "output_type": "display_data"
    }
   ],
   "source": [
    "# WHY is this cell so much slower than the previous one?\n",
    "\n",
    "# define model\n",
    "model = VAE(hidden_dim, latent_dim, out_dim, conditional)\n",
    "\n",
    "# initialise parameters\n",
    "key = jax.random.PRNGKey(0) \n",
    "batch_init = next(val_loader_iter) # batch[0] - x, batch[1] - y, batch[2] - c\n",
    "_, y, _ = batch_init\n",
    "params = model.init(key, y)['params']\n",
    "\n",
    "# optimizer\n",
    "optimizer = optax.adam(learning_rate=0.001)\n",
    "\n",
    "# store training state\n",
    "state = train_state.TrainState.create(apply_fn=model, params=params, tx=optimizer)\n",
    "\n",
    "# check architecture\n",
    "#print(model.tabulate(key, train_set.y,\n",
    "#      console_kwargs={'force_terminal': False, 'force_jupyter': True}))\n",
    "\n",
    "_loss_train = []\n",
    "_loss_test = []\n",
    "\n",
    "t_start = time.time()\n",
    "\n",
    "for epoch in range(num_epochs):\n",
    "    # Training phase\n",
    "    for _, batch_train in enumerate(train_loader):\n",
    "        state, loss_train = train_step(state, batch_train)\n",
    "        _loss_train.append(loss_train)\n",
    "\n",
    "    # Test phase\n",
    "    for _, batch_test in enumerate(test_loader):\n",
    "        loss_test = eval(state, batch_test)\n",
    "        _loss_test.append(loss_test)\n",
    "\n",
    "    if epoch % 1 == 0:    # print every 10 epochs\n",
    "        print(f'[{epoch + 1:5d}] training loss: {loss_train:.3f}, test loss: {loss_test:.3f}')\n",
    "\n",
    "t_elapsed = time.time() - t_start\n",
    "\n",
    "print(f'Training of 10 epochs took {round(t_elapsed)} seconds')\n",
    "\n",
    "#assert len(_loss_train) == num_epochs * num_samples // batch_size\n",
    "\n",
    "plt.plot(range(len(_loss_train)), _loss_train, label = 'Training loss')\n",
    "plt.plot(range(len(_loss_test)), _loss_test, label = 'Test loss')\n",
    "plt.legend()"
   ]
  },
  {
   "cell_type": "markdown",
   "id": "c5783eb0",
   "metadata": {},
   "source": [
    "#### What have we learnt?"
   ]
  },
  {
   "cell_type": "code",
   "execution_count": 13,
   "id": "6eb6940a",
   "metadata": {},
   "outputs": [
    {
     "ename": "NameError",
     "evalue": "name 'rng' is not defined",
     "output_type": "error",
     "traceback": [
      "\u001b[0;31m---------------------------------------------------------------------------\u001b[0m",
      "\u001b[0;31mNameError\u001b[0m                                 Traceback (most recent call last)",
      "\u001b[1;32m/Users/es/Dropbox/00 Oxford/96_cvae_jax_port/PriorCVAE_JAX/Main Notebook.ipynb Cell 18\u001b[0m in \u001b[0;36m<cell line: 1>\u001b[0;34m()\u001b[0m\n\u001b[0;32m----> <a href='vscode-notebook-cell:/Users/es/Dropbox/00%20Oxford/96_cvae_jax_port/PriorCVAE_JAX/Main%20Notebook.ipynb#X23sZmlsZQ%3D%3D?line=0'>1</a>\u001b[0m rng, z_rng, init_rng \u001b[39m=\u001b[39m random\u001b[39m.\u001b[39msplit(rng, \u001b[39m3\u001b[39m)\n\u001b[1;32m      <a href='vscode-notebook-cell:/Users/es/Dropbox/00%20Oxford/96_cvae_jax_port/PriorCVAE_JAX/Main%20Notebook.ipynb#X23sZmlsZQ%3D%3D?line=2'>3</a>\u001b[0m \u001b[39m# latents as input\u001b[39;00m\n\u001b[1;32m      <a href='vscode-notebook-cell:/Users/es/Dropbox/00%20Oxford/96_cvae_jax_port/PriorCVAE_JAX/Main%20Notebook.ipynb#X23sZmlsZQ%3D%3D?line=3'>4</a>\u001b[0m z \u001b[39m=\u001b[39m random\u001b[39m.\u001b[39mnormal(z_rng, (batch_size, latent_dim))\n",
      "\u001b[0;31mNameError\u001b[0m: name 'rng' is not defined"
     ]
    }
   ],
   "source": [
    "rng, z_rng, init_rng = random.split(key, 3)\n",
    "\n",
    "# latents as input\n",
    "z = random.normal(z_rng, (batch_size, latent_dim))\n",
    "print(z.shape)\n",
    "\n",
    "# create decoder\n",
    "decoder = Decoder(latent_dim, out_dim)\n",
    "\n",
    "# TODO: substitute this with decoder evaluation using trained paramters, .e.g. decoder_params = state.params\n",
    "# initiailize randomly \n",
    "params = decoder.init(init_rng, z)['params']\n",
    "\n",
    "# TODO: substitute this with, .e.g. out = decoder.apply({'params': decoder_params}, z)\n",
    "# Apply decoder with parameters on the data\n",
    "out = decoder.apply({'params': params}, z)             \n",
    "print(out.shape)\n",
    "\n",
    "fig, ax = plt.subplots()\n",
    "for i in range(15):\n",
    "    ax.plot(train_set.x[0], out[i,:])\n",
    "ax.set_xlabel('$x$')\n",
    "ax.set_ylabel('$y=f_{VAE}(x)$')\n",
    "ax.set_title('Examples of learnt trajectories')\n",
    "\n",
    "plt.show()\n"
   ]
  },
  {
   "cell_type": "markdown",
   "id": "f0ef2093",
   "metadata": {},
   "source": [
    "#### Visual diagnostics"
   ]
  },
  {
   "cell_type": "markdown",
   "id": "21be9dda",
   "metadata": {},
   "source": [
    "### Inference with MCMC"
   ]
  },
  {
   "cell_type": "markdown",
   "id": "9b0e71a6",
   "metadata": {},
   "source": [
    "#### Generate data"
   ]
  },
  {
   "cell_type": "code",
   "execution_count": null,
   "id": "6cc24c7d",
   "metadata": {},
   "outputs": [
    {
     "data": {
      "text/plain": [
       "Text(0.5, 1.0, 'Ground truth, corresponds to $ls$=0.2')"
      ]
     },
     "execution_count": 112,
     "metadata": {},
     "output_type": "execute_result"
    },
    {
     "data": {
      "image/png": "[encoded data removed]",
      "text/plain": [
       "<Figure size 432x288 with 1 Axes>"
      ]
     },
     "metadata": {
      "needs_background": "light"
     },
     "output_type": "display_data"
    }
   ],
   "source": [
    "x = train_set[0][0]\n",
    "\n",
    "rng_key_draw =  random.PRNGKey(1)\n",
    "rng_key, rng_key_post, rng_key_preds, rng_key_draw = random.split(rng_key_draw, 4)\n",
    "\n",
    "gp_predictive = Predictive(GP, num_samples=1)\n",
    "draws = gp_predictive(rng_key_draw, x=x, jitter=1e-6, noise=True, length=args[\"true_ls\"], var=1)\n",
    "\n",
    "gp_draw = draws['f'].T\n",
    "y_draw = draws['y'].T\n",
    "\n",
    "# choose indices of data points for inference\n",
    "obs_idx = jnp.array([2, 13, 24, 48])\n",
    "y_obs = y_draw[obs_idx,0]\n",
    "x_obs = x[np.array(obs_idx)]\n",
    "plt.plot(x, gp_draw, label=\"ground truth\", color=\"orange\")\n",
    "plt.scatter(x_obs, y_obs, color=\"red\", label=\"observed data\", s=60)\n",
    "plt.title('Ground truth, corresponds to $ls$=' + str(args[\"true_ls\"]))"
   ]
  },
  {
   "cell_type": "markdown",
   "id": "ab6b6bfb",
   "metadata": {},
   "source": [
    "#### Nupmyro model"
   ]
  },
  {
   "cell_type": "code",
   "execution_count": null,
   "id": "f27da467",
   "metadata": {},
   "outputs": [],
   "source": [
    "\n",
    "# import loss functions\n",
    "from priorCVAE.models.mcmc import *\n",
    "\n",
    "#mcmc_vae, mcmc_vae_samples, t_elapsed = run_mcmc_vae(rng_key_post, numpyro_model, args, conditional=False)"
   ]
  },
  {
   "cell_type": "markdown",
   "id": "ebc7fd55",
   "metadata": {},
   "source": []
  },
  {
   "cell_type": "code",
   "execution_count": null,
   "id": "dc6f9c33",
   "metadata": {},
   "outputs": [],
   "source": [
    "#predictive = Predictive(numpyro_model, mcmc_vae_samples)\n",
    "#predictions_vae = predictive(rng_key_pred,  args[\"z_dim\"], True, args[\"y_obs\"], args[\"obs_idx\"] )[\"f\"]\n",
    "\n",
    "#mean_post_pred_vae = jnp.mean(predictions_vae, axis=0)\n",
    "#hpdi_post_pred_vae = hpdi(predictions_vae, 0.9)\n",
    "#percentiles_vae = np.percentile(predictions_vae, [5.0, 95.0], axis=0)\n",
    "\n",
    "#N_lines = 10\n",
    "#plt.plot(x, gp_draw, label=\"ground truth\", color=\"orange\")\n",
    "#plt.scatter(x_obs, y_obs, color=\"red\", label=\"observed data\", s=60)\n",
    "#plt.plot(x, mean_post_pred_vae, label=\"predicted mean VAE\")\n",
    "\n",
    "#plt.fill_between(x, percentiles_vae[0, :], percentiles_vae[1, :], alpha=0.3, interpolate=True, label=\"VAE posterior: 90% BCI\")\n",
    "\n",
    "#plt.title('PriorCVAE inference')\n",
    "#plt.ylim([-2, 1])"
   ]
  },
  {
   "cell_type": "code",
   "execution_count": null,
   "id": "4fdc08ce",
   "metadata": {},
   "outputs": [],
   "source": []
  }
 ],
 "metadata": {
  "kernelspec": {
   "display_name": "Python 3 (ipykernel)",
   "language": "python",
   "name": "python3"
  },
  "language_info": {
   "codemirror_mode": {
    "name": "ipython",
    "version": 3
   },
   "file_extension": ".py",
   "mimetype": "text/x-python",
   "name": "python",
   "nbconvert_exporter": "python",
   "pygments_lexer": "ipython3",
   "version": "3.10.11"
  }
 },
 "nbformat": 4,
 "nbformat_minor": 5
}
