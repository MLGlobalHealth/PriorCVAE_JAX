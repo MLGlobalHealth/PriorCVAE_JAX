{
 "cells": [
  {
   "attachments": {},
   "cell_type": "markdown",
   "id": "c39cf8c0",
   "metadata": {},
   "source": [
    "### Load modules"
   ]
  },
  {
   "cell_type": "code",
   "execution_count": 1,
   "id": "16aaae31",
   "metadata": {},
   "outputs": [
    {
     "name": "stderr",
     "output_type": "stream",
     "text": [
      "/opt/anaconda3/envs/numpyro11_jax/lib/python3.10/site-packages/flax/struct.py:132: FutureWarning: jax.tree_util.register_keypaths is deprecated, and will be removed in a future release. Please use `register_pytree_with_keys()` instead.\n",
      "  jax.tree_util.register_keypaths(data_clz, keypaths)\n",
      "/opt/anaconda3/envs/numpyro11_jax/lib/python3.10/site-packages/flax/struct.py:132: FutureWarning: jax.tree_util.register_keypaths is deprecated, and will be removed in a future release. Please use `register_pytree_with_keys()` instead.\n",
      "  jax.tree_util.register_keypaths(data_clz, keypaths)\n"
     ]
    },
    {
     "ename": "NameError",
     "evalue": "name 'torch' is not defined",
     "output_type": "error",
     "traceback": [
      "\u001b[0;31m---------------------------------------------------------------------------\u001b[0m",
      "\u001b[0;31mNameError\u001b[0m                                 Traceback (most recent call last)",
      "\u001b[1;32m/Users/es/Dropbox/00 Oxford/96_cvae_jax_port/PriorCVAE_JAX/Main Notebook.ipynb Cell 2\u001b[0m in \u001b[0;36m<cell line: 26>\u001b[0;34m()\u001b[0m\n\u001b[1;32m     <a href='vscode-notebook-cell:/Users/es/Dropbox/00%20Oxford/96_cvae_jax_port/PriorCVAE_JAX/Main%20Notebook.ipynb#W1sZmlsZQ%3D%3D?line=22'>23</a>\u001b[0m \u001b[39mimport\u001b[39;00m \u001b[39moptax\u001b[39;00m\n\u001b[1;32m     <a href='vscode-notebook-cell:/Users/es/Dropbox/00%20Oxford/96_cvae_jax_port/PriorCVAE_JAX/Main%20Notebook.ipynb#W1sZmlsZQ%3D%3D?line=24'>25</a>\u001b[0m \u001b[39m# check versions\u001b[39;00m\n\u001b[0;32m---> <a href='vscode-notebook-cell:/Users/es/Dropbox/00%20Oxford/96_cvae_jax_port/PriorCVAE_JAX/Main%20Notebook.ipynb#W1sZmlsZQ%3D%3D?line=25'>26</a>\u001b[0m \u001b[39mprint\u001b[39m(\u001b[39m'\u001b[39m\u001b[39mPytorch version: \u001b[39m\u001b[39m'\u001b[39m,   torch\u001b[39m.\u001b[39m__version__)\n\u001b[1;32m     <a href='vscode-notebook-cell:/Users/es/Dropbox/00%20Oxford/96_cvae_jax_port/PriorCVAE_JAX/Main%20Notebook.ipynb#W1sZmlsZQ%3D%3D?line=26'>27</a>\u001b[0m \u001b[39mprint\u001b[39m(\u001b[39m'\u001b[39m\u001b[39mNumpyro version: \u001b[39m\u001b[39m'\u001b[39m, numpyro\u001b[39m.\u001b[39m__version__)\n\u001b[1;32m     <a href='vscode-notebook-cell:/Users/es/Dropbox/00%20Oxford/96_cvae_jax_port/PriorCVAE_JAX/Main%20Notebook.ipynb#W1sZmlsZQ%3D%3D?line=27'>28</a>\u001b[0m \u001b[39mprint\u001b[39m(\u001b[39m'\u001b[39m\u001b[39mJAX version:     \u001b[39m\u001b[39m'\u001b[39m,     jax\u001b[39m.\u001b[39m__version__)\n",
      "\u001b[0;31mNameError\u001b[0m: name 'torch' is not defined"
     ]
    }
   ],
   "source": [
    "# general\n",
    "import os\n",
    "import sys\n",
    "import time\n",
    "import numpy as np \n",
    "import matplotlib.pyplot as plt \n",
    "import random as rnd\n",
    "\n",
    "# Numpyro\n",
    "import numpyro\n",
    "import numpyro.distributions as npdist\n",
    "from numpyro.infer import Predictive, init_to_median, MCMC, NUTS\n",
    "from numpyro.diagnostics import hpdi\n",
    "\n",
    "numpyro.set_host_device_count(4)\n",
    "\n",
    "#JAX\n",
    "import jax\n",
    "from jax import random\n",
    "import jax.numpy as jnp\n",
    "\n",
    "import flax\n",
    "import optax\n",
    "\n",
    "# PyTorch\n",
    "import torch\n",
    "import torch.utils.data as data\n",
    "\n",
    "# check versions\n",
    "print('Pytorch version: ',   torch.__version__)\n",
    "print('Numpyro version: ', numpyro.__version__)\n",
    "print('JAX version:     ',     jax.__version__)\n",
    "print('Flax version:    ',    flax.__version__)\n",
    "print('Optax version:   ',   optax.__version__)\n",
    "from platform import python_version\n",
    "print('Pythorch version:',python_version())\n",
    "\n",
    "# import priors \n",
    "#from models.priors import *\n",
    "\n",
    "# import functions to load data\n",
    "from models.data import *\n",
    "\n",
    "# test dist_euclid\n",
    "#x1 = jnp.array([1,2,3])\n",
    "#dist_euclid(x1,x1)"
   ]
  },
  {
   "attachments": {},
   "cell_type": "markdown",
   "id": "239c2ee4",
   "metadata": {},
   "source": [
    "### Setup arguments"
   ]
  },
  {
   "cell_type": "code",
   "execution_count": 3,
   "id": "add79edb",
   "metadata": {},
   "outputs": [],
   "source": [
    "args = {\"seed\": 0,\n",
    "        \n",
    "        # architecture\n",
    "        \"conditional\": True,   # CVAE if True, VAE otherwise\n",
    "        \"input_dim\": 80,\n",
    "        \"hidden_dim\": 60,\n",
    "        \"z_dim\": 40,\n",
    "        \n",
    "        # VAE setup    \n",
    "        \"batch_size\": 100,\n",
    "       }"
   ]
  },
  {
   "attachments": {},
   "cell_type": "markdown",
   "id": "efe4ac12",
   "metadata": {},
   "source": [
    "### Generate data\n"
   ]
  },
  {
   "cell_type": "code",
   "execution_count": 4,
   "id": "2197cc36",
   "metadata": {},
   "outputs": [
    {
     "ename": "NameError",
     "evalue": "name 'torch' is not defined",
     "output_type": "error",
     "traceback": [
      "\u001b[0;31m---------------------------------------------------------------------------\u001b[0m",
      "\u001b[0;31mNameError\u001b[0m                                 Traceback (most recent call last)",
      "\u001b[1;32m/Users/es/Dropbox/00 Oxford/96_cvae_jax_port/PriorCVAE_JAX/Main Notebook.ipynb Cell 6\u001b[0m in \u001b[0;36m<cell line: 7>\u001b[0;34m()\u001b[0m\n\u001b[1;32m      <a href='vscode-notebook-cell:/Users/es/Dropbox/00%20Oxford/96_cvae_jax_port/PriorCVAE_JAX/Main%20Notebook.ipynb#W3sZmlsZQ%3D%3D?line=3'>4</a>\u001b[0m val_set \u001b[39m=\u001b[39m Dataset_GP1d(n_dataPoints\u001b[39m=\u001b[39margs[\u001b[39m\"\u001b[39m\u001b[39minput_dim\u001b[39m\u001b[39m\"\u001b[39m])  \n\u001b[1;32m      <a href='vscode-notebook-cell:/Users/es/Dropbox/00%20Oxford/96_cvae_jax_port/PriorCVAE_JAX/Main%20Notebook.ipynb#W3sZmlsZQ%3D%3D?line=4'>5</a>\u001b[0m test_set \u001b[39m=\u001b[39m Dataset_GP1d(n_dataPoints\u001b[39m=\u001b[39margs[\u001b[39m\"\u001b[39m\u001b[39minput_dim\u001b[39m\u001b[39m\"\u001b[39m])  \n\u001b[0;32m----> <a href='vscode-notebook-cell:/Users/es/Dropbox/00%20Oxford/96_cvae_jax_port/PriorCVAE_JAX/Main%20Notebook.ipynb#W3sZmlsZQ%3D%3D?line=6'>7</a>\u001b[0m train_loader, val_loader, test_loader \u001b[39m=\u001b[39m create_data_loaders(train_set, val_set, test_set,\n\u001b[1;32m      <a href='vscode-notebook-cell:/Users/es/Dropbox/00%20Oxford/96_cvae_jax_port/PriorCVAE_JAX/Main%20Notebook.ipynb#W3sZmlsZQ%3D%3D?line=7'>8</a>\u001b[0m                                                             train\u001b[39m=\u001b[39;49m[\u001b[39mTrue\u001b[39;49;00m, \u001b[39mFalse\u001b[39;49;00m, \u001b[39mFalse\u001b[39;49;00m],\n\u001b[1;32m      <a href='vscode-notebook-cell:/Users/es/Dropbox/00%20Oxford/96_cvae_jax_port/PriorCVAE_JAX/Main%20Notebook.ipynb#W3sZmlsZQ%3D%3D?line=8'>9</a>\u001b[0m                                                             batch_size\u001b[39m=\u001b[39;49margs[\u001b[39m\"\u001b[39;49m\u001b[39mbatch_size\u001b[39;49m\u001b[39m\"\u001b[39;49m])\n",
      "File \u001b[0;32m~/Dropbox/00 Oxford/96_cvae_jax_port/PriorCVAE_JAX/models/data.py:58\u001b[0m, in \u001b[0;36mcreate_data_loaders\u001b[0;34m(train, batch_size, num_workers, seed, *datasets)\u001b[0m\n\u001b[1;32m     49\u001b[0m     train \u001b[39m=\u001b[39m [train \u001b[39mfor\u001b[39;00m _ \u001b[39min\u001b[39;00m datasets]\n\u001b[1;32m     50\u001b[0m \u001b[39mfor\u001b[39;00m dataset, is_train \u001b[39min\u001b[39;00m \u001b[39mzip\u001b[39m(datasets, train):\n\u001b[1;32m     51\u001b[0m     loader \u001b[39m=\u001b[39m data\u001b[39m.\u001b[39mDataLoader(dataset,\n\u001b[1;32m     52\u001b[0m                              batch_size\u001b[39m=\u001b[39mbatch_size,\n\u001b[1;32m     53\u001b[0m                              shuffle\u001b[39m=\u001b[39mis_train,\n\u001b[1;32m     54\u001b[0m                              drop_last\u001b[39m=\u001b[39mis_train,\n\u001b[1;32m     55\u001b[0m                              collate_fn\u001b[39m=\u001b[39mnumpy_collate,\n\u001b[1;32m     56\u001b[0m                              num_workers\u001b[39m=\u001b[39mnum_workers,\n\u001b[1;32m     57\u001b[0m                              persistent_workers\u001b[39m=\u001b[39mis_train,\n\u001b[0;32m---> 58\u001b[0m                              generator\u001b[39m=\u001b[39mtorch\u001b[39m.\u001b[39mGenerator()\u001b[39m.\u001b[39mmanual_seed(seed))\n\u001b[1;32m     59\u001b[0m     loaders\u001b[39m.\u001b[39mappend(loader)\n\u001b[1;32m     60\u001b[0m \u001b[39mreturn\u001b[39;00m loaders\n",
      "\u001b[0;31mNameError\u001b[0m: name 'torch' is not defined"
     ]
    }
   ],
   "source": [
    "import random as rnd\n",
    "\n",
    "train_set = Dataset_GP1d(n_dataPoints=args[\"input_dim\"])  \n",
    "val_set = Dataset_GP1d(n_dataPoints=args[\"input_dim\"])  \n",
    "test_set = Dataset_GP1d(n_dataPoints=args[\"input_dim\"])  \n",
    "\n",
    "train_loader, val_loader, test_loader = create_data_loaders(train_set, val_set, test_set,\n",
    "                                                            train=[True, False, False],\n",
    "                                                            batch_size=args[\"batch_size\"])"
   ]
  },
  {
   "cell_type": "code",
   "execution_count": null,
   "id": "b95941ad",
   "metadata": {},
   "outputs": [],
   "source": []
  },
  {
   "cell_type": "code",
   "execution_count": null,
   "id": "0a2d486c",
   "metadata": {},
   "outputs": [],
   "source": []
  }
 ],
 "metadata": {
  "kernelspec": {
   "display_name": "Python 3 (ipykernel)",
   "language": "python",
   "name": "python3"
  },
  "language_info": {
   "codemirror_mode": {
    "name": "ipython",
    "version": 3
   },
   "file_extension": ".py",
   "mimetype": "text/x-python",
   "name": "python",
   "nbconvert_exporter": "python",
   "pygments_lexer": "ipython3",
   "version": "3.10.11"
  }
 },
 "nbformat": 4,
 "nbformat_minor": 5
}
